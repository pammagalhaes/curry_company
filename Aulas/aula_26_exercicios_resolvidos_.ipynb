{
  "nbformat": 4,
  "nbformat_minor": 0,
  "metadata": {
    "colab": {
      "provenance": [],
      "collapsed_sections": [
        "wrsL8z4JjMr3",
        "OqSRaXJCoRQx",
        "DYffeaULq_Od",
        "1AloAPlfrmhe",
        "HDyiIptOr328",
        "8Mw36hrzsIyp",
        "A-OZjrMssZlY",
        "N4uY1Jtutj78"
      ]
    },
    "kernelspec": {
      "name": "python3",
      "display_name": "Python 3"
    },
    "language_info": {
      "name": "python"
    }
  },
  "cells": [
    {
      "cell_type": "markdown",
      "source": [
        "\n",
        "\n",
        "# Import de Bibliotecas e Carregamento dos Dados\n",
        "\n"
      ],
      "metadata": {
        "id": "wQcosCOWGcIT"
      }
    },
    {
      "cell_type": "code",
      "source": [
        "import pandas as pd\n",
        "import re\n",
        "from google.colab import drive\n",
        "\n",
        "drive.mount('/content/drive')\n",
        "\n",
        "df_raw = pd.read_csv('/content/drive/MyDrive/FTC - Analise de Dados/train.csv')\n",
        "\n",
        "df_raw.head()"
      ],
      "metadata": {
        "id": "6KNUAHC0hHTp",
        "colab": {
          "base_uri": "https://localhost:8080/",
          "height": 287
        },
        "outputId": "259902a8-f185-4776-b067-e596d7c2326e"
      },
      "execution_count": 4,
      "outputs": [
        {
          "output_type": "stream",
          "name": "stdout",
          "text": [
            "Drive already mounted at /content/drive; to attempt to forcibly remount, call drive.mount(\"/content/drive\", force_remount=True).\n"
          ]
        },
        {
          "output_type": "execute_result",
          "data": {
            "text/plain": [
              "        ID Delivery_person_ID Delivery_person_Age Delivery_person_Ratings  \\\n",
              "0  0x4607     INDORES13DEL02                   37                     4.9   \n",
              "1  0xb379     BANGRES18DEL02                   34                     4.5   \n",
              "2  0x5d6d     BANGRES19DEL01                   23                     4.4   \n",
              "3  0x7a6a    COIMBRES13DEL02                   38                     4.7   \n",
              "4  0x70a2     CHENRES12DEL01                   32                     4.6   \n",
              "\n",
              "   Restaurant_latitude  Restaurant_longitude  Delivery_location_latitude  \\\n",
              "0            22.745049             75.892471                   22.765049   \n",
              "1            12.913041             77.683237                   13.043041   \n",
              "2            12.914264             77.678400                   12.924264   \n",
              "3            11.003669             76.976494                   11.053669   \n",
              "4            12.972793             80.249982                   13.012793   \n",
              "\n",
              "   Delivery_location_longitude  Order_Date Time_Orderd Time_Order_picked  \\\n",
              "0                    75.912471  19-03-2022    11:30:00          11:45:00   \n",
              "1                    77.813237  25-03-2022    19:45:00          19:50:00   \n",
              "2                    77.688400  19-03-2022    08:30:00          08:45:00   \n",
              "3                    77.026494  05-04-2022    18:00:00          18:10:00   \n",
              "4                    80.289982  26-03-2022    13:30:00          13:45:00   \n",
              "\n",
              "       Weatherconditions Road_traffic_density  Vehicle_condition  \\\n",
              "0       conditions Sunny                High                   2   \n",
              "1      conditions Stormy                 Jam                   2   \n",
              "2  conditions Sandstorms                 Low                   0   \n",
              "3       conditions Sunny              Medium                   0   \n",
              "4      conditions Cloudy                High                   1   \n",
              "\n",
              "  Type_of_order Type_of_vehicle multiple_deliveries Festival            City  \\\n",
              "0        Snack      motorcycle                    0      No           Urban    \n",
              "1        Snack         scooter                    1      No   Metropolitian    \n",
              "2       Drinks      motorcycle                    1      No           Urban    \n",
              "3       Buffet      motorcycle                    1      No   Metropolitian    \n",
              "4        Snack         scooter                    1      No   Metropolitian    \n",
              "\n",
              "  Time_taken(min)  \n",
              "0        (min) 24  \n",
              "1        (min) 33  \n",
              "2        (min) 26  \n",
              "3        (min) 21  \n",
              "4        (min) 30  "
            ],
            "text/html": [
              "\n",
              "  <div id=\"df-04a38b79-08f8-46ca-957c-d5bb6a419ebe\">\n",
              "    <div class=\"colab-df-container\">\n",
              "      <div>\n",
              "<style scoped>\n",
              "    .dataframe tbody tr th:only-of-type {\n",
              "        vertical-align: middle;\n",
              "    }\n",
              "\n",
              "    .dataframe tbody tr th {\n",
              "        vertical-align: top;\n",
              "    }\n",
              "\n",
              "    .dataframe thead th {\n",
              "        text-align: right;\n",
              "    }\n",
              "</style>\n",
              "<table border=\"1\" class=\"dataframe\">\n",
              "  <thead>\n",
              "    <tr style=\"text-align: right;\">\n",
              "      <th></th>\n",
              "      <th>ID</th>\n",
              "      <th>Delivery_person_ID</th>\n",
              "      <th>Delivery_person_Age</th>\n",
              "      <th>Delivery_person_Ratings</th>\n",
              "      <th>Restaurant_latitude</th>\n",
              "      <th>Restaurant_longitude</th>\n",
              "      <th>Delivery_location_latitude</th>\n",
              "      <th>Delivery_location_longitude</th>\n",
              "      <th>Order_Date</th>\n",
              "      <th>Time_Orderd</th>\n",
              "      <th>Time_Order_picked</th>\n",
              "      <th>Weatherconditions</th>\n",
              "      <th>Road_traffic_density</th>\n",
              "      <th>Vehicle_condition</th>\n",
              "      <th>Type_of_order</th>\n",
              "      <th>Type_of_vehicle</th>\n",
              "      <th>multiple_deliveries</th>\n",
              "      <th>Festival</th>\n",
              "      <th>City</th>\n",
              "      <th>Time_taken(min)</th>\n",
              "    </tr>\n",
              "  </thead>\n",
              "  <tbody>\n",
              "    <tr>\n",
              "      <th>0</th>\n",
              "      <td>0x4607</td>\n",
              "      <td>INDORES13DEL02</td>\n",
              "      <td>37</td>\n",
              "      <td>4.9</td>\n",
              "      <td>22.745049</td>\n",
              "      <td>75.892471</td>\n",
              "      <td>22.765049</td>\n",
              "      <td>75.912471</td>\n",
              "      <td>19-03-2022</td>\n",
              "      <td>11:30:00</td>\n",
              "      <td>11:45:00</td>\n",
              "      <td>conditions Sunny</td>\n",
              "      <td>High</td>\n",
              "      <td>2</td>\n",
              "      <td>Snack</td>\n",
              "      <td>motorcycle</td>\n",
              "      <td>0</td>\n",
              "      <td>No</td>\n",
              "      <td>Urban</td>\n",
              "      <td>(min) 24</td>\n",
              "    </tr>\n",
              "    <tr>\n",
              "      <th>1</th>\n",
              "      <td>0xb379</td>\n",
              "      <td>BANGRES18DEL02</td>\n",
              "      <td>34</td>\n",
              "      <td>4.5</td>\n",
              "      <td>12.913041</td>\n",
              "      <td>77.683237</td>\n",
              "      <td>13.043041</td>\n",
              "      <td>77.813237</td>\n",
              "      <td>25-03-2022</td>\n",
              "      <td>19:45:00</td>\n",
              "      <td>19:50:00</td>\n",
              "      <td>conditions Stormy</td>\n",
              "      <td>Jam</td>\n",
              "      <td>2</td>\n",
              "      <td>Snack</td>\n",
              "      <td>scooter</td>\n",
              "      <td>1</td>\n",
              "      <td>No</td>\n",
              "      <td>Metropolitian</td>\n",
              "      <td>(min) 33</td>\n",
              "    </tr>\n",
              "    <tr>\n",
              "      <th>2</th>\n",
              "      <td>0x5d6d</td>\n",
              "      <td>BANGRES19DEL01</td>\n",
              "      <td>23</td>\n",
              "      <td>4.4</td>\n",
              "      <td>12.914264</td>\n",
              "      <td>77.678400</td>\n",
              "      <td>12.924264</td>\n",
              "      <td>77.688400</td>\n",
              "      <td>19-03-2022</td>\n",
              "      <td>08:30:00</td>\n",
              "      <td>08:45:00</td>\n",
              "      <td>conditions Sandstorms</td>\n",
              "      <td>Low</td>\n",
              "      <td>0</td>\n",
              "      <td>Drinks</td>\n",
              "      <td>motorcycle</td>\n",
              "      <td>1</td>\n",
              "      <td>No</td>\n",
              "      <td>Urban</td>\n",
              "      <td>(min) 26</td>\n",
              "    </tr>\n",
              "    <tr>\n",
              "      <th>3</th>\n",
              "      <td>0x7a6a</td>\n",
              "      <td>COIMBRES13DEL02</td>\n",
              "      <td>38</td>\n",
              "      <td>4.7</td>\n",
              "      <td>11.003669</td>\n",
              "      <td>76.976494</td>\n",
              "      <td>11.053669</td>\n",
              "      <td>77.026494</td>\n",
              "      <td>05-04-2022</td>\n",
              "      <td>18:00:00</td>\n",
              "      <td>18:10:00</td>\n",
              "      <td>conditions Sunny</td>\n",
              "      <td>Medium</td>\n",
              "      <td>0</td>\n",
              "      <td>Buffet</td>\n",
              "      <td>motorcycle</td>\n",
              "      <td>1</td>\n",
              "      <td>No</td>\n",
              "      <td>Metropolitian</td>\n",
              "      <td>(min) 21</td>\n",
              "    </tr>\n",
              "    <tr>\n",
              "      <th>4</th>\n",
              "      <td>0x70a2</td>\n",
              "      <td>CHENRES12DEL01</td>\n",
              "      <td>32</td>\n",
              "      <td>4.6</td>\n",
              "      <td>12.972793</td>\n",
              "      <td>80.249982</td>\n",
              "      <td>13.012793</td>\n",
              "      <td>80.289982</td>\n",
              "      <td>26-03-2022</td>\n",
              "      <td>13:30:00</td>\n",
              "      <td>13:45:00</td>\n",
              "      <td>conditions Cloudy</td>\n",
              "      <td>High</td>\n",
              "      <td>1</td>\n",
              "      <td>Snack</td>\n",
              "      <td>scooter</td>\n",
              "      <td>1</td>\n",
              "      <td>No</td>\n",
              "      <td>Metropolitian</td>\n",
              "      <td>(min) 30</td>\n",
              "    </tr>\n",
              "  </tbody>\n",
              "</table>\n",
              "</div>\n",
              "      <button class=\"colab-df-convert\" onclick=\"convertToInteractive('df-04a38b79-08f8-46ca-957c-d5bb6a419ebe')\"\n",
              "              title=\"Convert this dataframe to an interactive table.\"\n",
              "              style=\"display:none;\">\n",
              "        \n",
              "  <svg xmlns=\"http://www.w3.org/2000/svg\" height=\"24px\"viewBox=\"0 0 24 24\"\n",
              "       width=\"24px\">\n",
              "    <path d=\"M0 0h24v24H0V0z\" fill=\"none\"/>\n",
              "    <path d=\"M18.56 5.44l.94 2.06.94-2.06 2.06-.94-2.06-.94-.94-2.06-.94 2.06-2.06.94zm-11 1L8.5 8.5l.94-2.06 2.06-.94-2.06-.94L8.5 2.5l-.94 2.06-2.06.94zm10 10l.94 2.06.94-2.06 2.06-.94-2.06-.94-.94-2.06-.94 2.06-2.06.94z\"/><path d=\"M17.41 7.96l-1.37-1.37c-.4-.4-.92-.59-1.43-.59-.52 0-1.04.2-1.43.59L10.3 9.45l-7.72 7.72c-.78.78-.78 2.05 0 2.83L4 21.41c.39.39.9.59 1.41.59.51 0 1.02-.2 1.41-.59l7.78-7.78 2.81-2.81c.8-.78.8-2.07 0-2.86zM5.41 20L4 18.59l7.72-7.72 1.47 1.35L5.41 20z\"/>\n",
              "  </svg>\n",
              "      </button>\n",
              "      \n",
              "  <style>\n",
              "    .colab-df-container {\n",
              "      display:flex;\n",
              "      flex-wrap:wrap;\n",
              "      gap: 12px;\n",
              "    }\n",
              "\n",
              "    .colab-df-convert {\n",
              "      background-color: #E8F0FE;\n",
              "      border: none;\n",
              "      border-radius: 50%;\n",
              "      cursor: pointer;\n",
              "      display: none;\n",
              "      fill: #1967D2;\n",
              "      height: 32px;\n",
              "      padding: 0 0 0 0;\n",
              "      width: 32px;\n",
              "    }\n",
              "\n",
              "    .colab-df-convert:hover {\n",
              "      background-color: #E2EBFA;\n",
              "      box-shadow: 0px 1px 2px rgba(60, 64, 67, 0.3), 0px 1px 3px 1px rgba(60, 64, 67, 0.15);\n",
              "      fill: #174EA6;\n",
              "    }\n",
              "\n",
              "    [theme=dark] .colab-df-convert {\n",
              "      background-color: #3B4455;\n",
              "      fill: #D2E3FC;\n",
              "    }\n",
              "\n",
              "    [theme=dark] .colab-df-convert:hover {\n",
              "      background-color: #434B5C;\n",
              "      box-shadow: 0px 1px 3px 1px rgba(0, 0, 0, 0.15);\n",
              "      filter: drop-shadow(0px 1px 2px rgba(0, 0, 0, 0.3));\n",
              "      fill: #FFFFFF;\n",
              "    }\n",
              "  </style>\n",
              "\n",
              "      <script>\n",
              "        const buttonEl =\n",
              "          document.querySelector('#df-04a38b79-08f8-46ca-957c-d5bb6a419ebe button.colab-df-convert');\n",
              "        buttonEl.style.display =\n",
              "          google.colab.kernel.accessAllowed ? 'block' : 'none';\n",
              "\n",
              "        async function convertToInteractive(key) {\n",
              "          const element = document.querySelector('#df-04a38b79-08f8-46ca-957c-d5bb6a419ebe');\n",
              "          const dataTable =\n",
              "            await google.colab.kernel.invokeFunction('convertToInteractive',\n",
              "                                                     [key], {});\n",
              "          if (!dataTable) return;\n",
              "\n",
              "          const docLinkHtml = 'Like what you see? Visit the ' +\n",
              "            '<a target=\"_blank\" href=https://colab.research.google.com/notebooks/data_table.ipynb>data table notebook</a>'\n",
              "            + ' to learn more about interactive tables.';\n",
              "          element.innerHTML = '';\n",
              "          dataTable['output_type'] = 'display_data';\n",
              "          await google.colab.output.renderOutput(dataTable, element);\n",
              "          const docLink = document.createElement('div');\n",
              "          docLink.innerHTML = docLinkHtml;\n",
              "          element.appendChild(docLink);\n",
              "        }\n",
              "      </script>\n",
              "    </div>\n",
              "  </div>\n",
              "  "
            ]
          },
          "metadata": {},
          "execution_count": 4
        }
      ]
    },
    {
      "cell_type": "markdown",
      "source": [
        "# Respondendo os Exercicios"
      ],
      "metadata": {
        "id": "luHsAXjzHjtD"
      }
    },
    {
      "cell_type": "code",
      "source": [
        "df = df_raw.copy()"
      ],
      "metadata": {
        "id": "UUToZbZ5H5Kg"
      },
      "execution_count": 5,
      "outputs": []
    },
    {
      "cell_type": "markdown",
      "source": [
        "## 1. Qual o valor da informação armazenada na linha 30 e na coluna 10?"
      ],
      "metadata": {
        "id": "KLcDh-fgiLd1"
      }
    },
    {
      "cell_type": "code",
      "source": [
        "df.iloc[30,10]"
      ],
      "metadata": {
        "colab": {
          "base_uri": "https://localhost:8080/",
          "height": 35
        },
        "id": "GmQVaTmxhYMx",
        "outputId": "432e7cd8-2375-4bda-91ab-59a8e9c044d5"
      },
      "execution_count": 6,
      "outputs": [
        {
          "output_type": "execute_result",
          "data": {
            "text/plain": [
              "'22:40:00'"
            ],
            "application/vnd.google.colaboratory.intrinsic+json": {
              "type": "string"
            }
          },
          "metadata": {},
          "execution_count": 6
        }
      ]
    },
    {
      "cell_type": "code",
      "source": [
        "# df.loc[30, df.columns[10]]"
      ],
      "metadata": {
        "id": "Yl9uYcWbhpmZ"
      },
      "execution_count": 7,
      "outputs": []
    },
    {
      "cell_type": "markdown",
      "source": [
        "# 2. Selecione as linhas 0 a 20 e as colunas 0 a 2"
      ],
      "metadata": {
        "id": "45bDVBGCiRUv"
      }
    },
    {
      "cell_type": "code",
      "source": [
        "df.iloc[0:20, 0:2]"
      ],
      "metadata": {
        "colab": {
          "base_uri": "https://localhost:8080/",
          "height": 676
        },
        "id": "VmHQR3aMiDfs",
        "outputId": "33242b6c-f97f-4975-8dd9-a1db4196c508"
      },
      "execution_count": 21,
      "outputs": [
        {
          "output_type": "execute_result",
          "data": {
            "text/plain": [
              "         ID Delivery_person_ID\n",
              "0   0x4607     INDORES13DEL02 \n",
              "1   0xb379     BANGRES18DEL02 \n",
              "2   0x5d6d     BANGRES19DEL01 \n",
              "3   0x7a6a    COIMBRES13DEL02 \n",
              "4   0x70a2     CHENRES12DEL01 \n",
              "5   0x9bb4      HYDRES09DEL03 \n",
              "6   0x95b4   RANCHIRES15DEL01 \n",
              "7   0x9eb2      MYSRES15DEL02 \n",
              "8   0x1102      HYDRES05DEL02 \n",
              "9   0xcdcd      DEHRES17DEL01 \n",
              "10  0xd987      KOCRES16DEL01 \n",
              "11  0x2784     PUNERES13DEL03 \n",
              "12  0xc8b6     LUDHRES15DEL02 \n",
              "13  0xdb64      KNPRES14DEL02 \n",
              "14  0x3af3      MUMRES15DEL03 \n",
              "15  0x3aab      MYSRES01DEL01 \n",
              "16  0x689b     PUNERES20DEL01 \n",
              "17  0x6f67      HYDRES14DEL01 \n",
              "18  0xc9cf      KOLRES15DEL03 \n",
              "19  0x36b8     PUNERES19DEL02 "
            ],
            "text/html": [
              "\n",
              "  <div id=\"df-7a35d0cb-cae6-484d-9064-d5021b79d994\">\n",
              "    <div class=\"colab-df-container\">\n",
              "      <div>\n",
              "<style scoped>\n",
              "    .dataframe tbody tr th:only-of-type {\n",
              "        vertical-align: middle;\n",
              "    }\n",
              "\n",
              "    .dataframe tbody tr th {\n",
              "        vertical-align: top;\n",
              "    }\n",
              "\n",
              "    .dataframe thead th {\n",
              "        text-align: right;\n",
              "    }\n",
              "</style>\n",
              "<table border=\"1\" class=\"dataframe\">\n",
              "  <thead>\n",
              "    <tr style=\"text-align: right;\">\n",
              "      <th></th>\n",
              "      <th>ID</th>\n",
              "      <th>Delivery_person_ID</th>\n",
              "    </tr>\n",
              "  </thead>\n",
              "  <tbody>\n",
              "    <tr>\n",
              "      <th>0</th>\n",
              "      <td>0x4607</td>\n",
              "      <td>INDORES13DEL02</td>\n",
              "    </tr>\n",
              "    <tr>\n",
              "      <th>1</th>\n",
              "      <td>0xb379</td>\n",
              "      <td>BANGRES18DEL02</td>\n",
              "    </tr>\n",
              "    <tr>\n",
              "      <th>2</th>\n",
              "      <td>0x5d6d</td>\n",
              "      <td>BANGRES19DEL01</td>\n",
              "    </tr>\n",
              "    <tr>\n",
              "      <th>3</th>\n",
              "      <td>0x7a6a</td>\n",
              "      <td>COIMBRES13DEL02</td>\n",
              "    </tr>\n",
              "    <tr>\n",
              "      <th>4</th>\n",
              "      <td>0x70a2</td>\n",
              "      <td>CHENRES12DEL01</td>\n",
              "    </tr>\n",
              "    <tr>\n",
              "      <th>5</th>\n",
              "      <td>0x9bb4</td>\n",
              "      <td>HYDRES09DEL03</td>\n",
              "    </tr>\n",
              "    <tr>\n",
              "      <th>6</th>\n",
              "      <td>0x95b4</td>\n",
              "      <td>RANCHIRES15DEL01</td>\n",
              "    </tr>\n",
              "    <tr>\n",
              "      <th>7</th>\n",
              "      <td>0x9eb2</td>\n",
              "      <td>MYSRES15DEL02</td>\n",
              "    </tr>\n",
              "    <tr>\n",
              "      <th>8</th>\n",
              "      <td>0x1102</td>\n",
              "      <td>HYDRES05DEL02</td>\n",
              "    </tr>\n",
              "    <tr>\n",
              "      <th>9</th>\n",
              "      <td>0xcdcd</td>\n",
              "      <td>DEHRES17DEL01</td>\n",
              "    </tr>\n",
              "    <tr>\n",
              "      <th>10</th>\n",
              "      <td>0xd987</td>\n",
              "      <td>KOCRES16DEL01</td>\n",
              "    </tr>\n",
              "    <tr>\n",
              "      <th>11</th>\n",
              "      <td>0x2784</td>\n",
              "      <td>PUNERES13DEL03</td>\n",
              "    </tr>\n",
              "    <tr>\n",
              "      <th>12</th>\n",
              "      <td>0xc8b6</td>\n",
              "      <td>LUDHRES15DEL02</td>\n",
              "    </tr>\n",
              "    <tr>\n",
              "      <th>13</th>\n",
              "      <td>0xdb64</td>\n",
              "      <td>KNPRES14DEL02</td>\n",
              "    </tr>\n",
              "    <tr>\n",
              "      <th>14</th>\n",
              "      <td>0x3af3</td>\n",
              "      <td>MUMRES15DEL03</td>\n",
              "    </tr>\n",
              "    <tr>\n",
              "      <th>15</th>\n",
              "      <td>0x3aab</td>\n",
              "      <td>MYSRES01DEL01</td>\n",
              "    </tr>\n",
              "    <tr>\n",
              "      <th>16</th>\n",
              "      <td>0x689b</td>\n",
              "      <td>PUNERES20DEL01</td>\n",
              "    </tr>\n",
              "    <tr>\n",
              "      <th>17</th>\n",
              "      <td>0x6f67</td>\n",
              "      <td>HYDRES14DEL01</td>\n",
              "    </tr>\n",
              "    <tr>\n",
              "      <th>18</th>\n",
              "      <td>0xc9cf</td>\n",
              "      <td>KOLRES15DEL03</td>\n",
              "    </tr>\n",
              "    <tr>\n",
              "      <th>19</th>\n",
              "      <td>0x36b8</td>\n",
              "      <td>PUNERES19DEL02</td>\n",
              "    </tr>\n",
              "  </tbody>\n",
              "</table>\n",
              "</div>\n",
              "      <button class=\"colab-df-convert\" onclick=\"convertToInteractive('df-7a35d0cb-cae6-484d-9064-d5021b79d994')\"\n",
              "              title=\"Convert this dataframe to an interactive table.\"\n",
              "              style=\"display:none;\">\n",
              "        \n",
              "  <svg xmlns=\"http://www.w3.org/2000/svg\" height=\"24px\"viewBox=\"0 0 24 24\"\n",
              "       width=\"24px\">\n",
              "    <path d=\"M0 0h24v24H0V0z\" fill=\"none\"/>\n",
              "    <path d=\"M18.56 5.44l.94 2.06.94-2.06 2.06-.94-2.06-.94-.94-2.06-.94 2.06-2.06.94zm-11 1L8.5 8.5l.94-2.06 2.06-.94-2.06-.94L8.5 2.5l-.94 2.06-2.06.94zm10 10l.94 2.06.94-2.06 2.06-.94-2.06-.94-.94-2.06-.94 2.06-2.06.94z\"/><path d=\"M17.41 7.96l-1.37-1.37c-.4-.4-.92-.59-1.43-.59-.52 0-1.04.2-1.43.59L10.3 9.45l-7.72 7.72c-.78.78-.78 2.05 0 2.83L4 21.41c.39.39.9.59 1.41.59.51 0 1.02-.2 1.41-.59l7.78-7.78 2.81-2.81c.8-.78.8-2.07 0-2.86zM5.41 20L4 18.59l7.72-7.72 1.47 1.35L5.41 20z\"/>\n",
              "  </svg>\n",
              "      </button>\n",
              "      \n",
              "  <style>\n",
              "    .colab-df-container {\n",
              "      display:flex;\n",
              "      flex-wrap:wrap;\n",
              "      gap: 12px;\n",
              "    }\n",
              "\n",
              "    .colab-df-convert {\n",
              "      background-color: #E8F0FE;\n",
              "      border: none;\n",
              "      border-radius: 50%;\n",
              "      cursor: pointer;\n",
              "      display: none;\n",
              "      fill: #1967D2;\n",
              "      height: 32px;\n",
              "      padding: 0 0 0 0;\n",
              "      width: 32px;\n",
              "    }\n",
              "\n",
              "    .colab-df-convert:hover {\n",
              "      background-color: #E2EBFA;\n",
              "      box-shadow: 0px 1px 2px rgba(60, 64, 67, 0.3), 0px 1px 3px 1px rgba(60, 64, 67, 0.15);\n",
              "      fill: #174EA6;\n",
              "    }\n",
              "\n",
              "    [theme=dark] .colab-df-convert {\n",
              "      background-color: #3B4455;\n",
              "      fill: #D2E3FC;\n",
              "    }\n",
              "\n",
              "    [theme=dark] .colab-df-convert:hover {\n",
              "      background-color: #434B5C;\n",
              "      box-shadow: 0px 1px 3px 1px rgba(0, 0, 0, 0.15);\n",
              "      filter: drop-shadow(0px 1px 2px rgba(0, 0, 0, 0.3));\n",
              "      fill: #FFFFFF;\n",
              "    }\n",
              "  </style>\n",
              "\n",
              "      <script>\n",
              "        const buttonEl =\n",
              "          document.querySelector('#df-7a35d0cb-cae6-484d-9064-d5021b79d994 button.colab-df-convert');\n",
              "        buttonEl.style.display =\n",
              "          google.colab.kernel.accessAllowed ? 'block' : 'none';\n",
              "\n",
              "        async function convertToInteractive(key) {\n",
              "          const element = document.querySelector('#df-7a35d0cb-cae6-484d-9064-d5021b79d994');\n",
              "          const dataTable =\n",
              "            await google.colab.kernel.invokeFunction('convertToInteractive',\n",
              "                                                     [key], {});\n",
              "          if (!dataTable) return;\n",
              "\n",
              "          const docLinkHtml = 'Like what you see? Visit the ' +\n",
              "            '<a target=\"_blank\" href=https://colab.research.google.com/notebooks/data_table.ipynb>data table notebook</a>'\n",
              "            + ' to learn more about interactive tables.';\n",
              "          element.innerHTML = '';\n",
              "          dataTable['output_type'] = 'display_data';\n",
              "          await google.colab.output.renderOutput(dataTable, element);\n",
              "          const docLink = document.createElement('div');\n",
              "          docLink.innerHTML = docLinkHtml;\n",
              "          element.appendChild(docLink);\n",
              "        }\n",
              "      </script>\n",
              "    </div>\n",
              "  </div>\n",
              "  "
            ]
          },
          "metadata": {},
          "execution_count": 21
        }
      ]
    },
    {
      "cell_type": "markdown",
      "source": [
        "# 3. Selecione as linhas 5 a 30 e a coluna “Delivery_person_Age”"
      ],
      "metadata": {
        "id": "4QZqV-7Qicss"
      }
    },
    {
      "cell_type": "code",
      "source": [
        "df.loc[5:30, 'Delivery_person_Age']"
      ],
      "metadata": {
        "colab": {
          "base_uri": "https://localhost:8080/"
        },
        "id": "C9zCoLllicQk",
        "outputId": "6e69d650-a289-4335-8d94-19ae8ff2eaea"
      },
      "execution_count": 9,
      "outputs": [
        {
          "output_type": "execute_result",
          "data": {
            "text/plain": [
              "5     22\n",
              "6     33\n",
              "7     35\n",
              "8     22\n",
              "9     36\n",
              "10    21\n",
              "11    23\n",
              "12    34\n",
              "13    24\n",
              "14    29\n",
              "15    35\n",
              "16    33\n",
              "17    34\n",
              "18    21\n",
              "19    25\n",
              "20    31\n",
              "21    37\n",
              "22    33\n",
              "23    25\n",
              "24    29\n",
              "25    27\n",
              "26    35\n",
              "27    32\n",
              "28    23\n",
              "29    31\n",
              "30    36\n",
              "Name: Delivery_person_Age, dtype: object"
            ]
          },
          "metadata": {},
          "execution_count": 9
        }
      ]
    },
    {
      "cell_type": "markdown",
      "source": [
        "# 4. Selecione as linhas 40 a 42 e as seguintes colunas: “Restaurant_latitude”, “Restaurant_longitude”, \"Delivery_location_latitude”, “Delivery_location_longitude”"
      ],
      "metadata": {
        "id": "I6GxRv9cirgC"
      }
    },
    {
      "cell_type": "code",
      "source": [
        "df.loc[40:42, ['Restaurant_latitude', 'Restaurant_longitude', 'Delivery_location_latitude', 'Delivery_location_longitude']]"
      ],
      "metadata": {
        "colab": {
          "base_uri": "https://localhost:8080/",
          "height": 143
        },
        "id": "CpqqrW98iqj5",
        "outputId": "e934f15a-4e27-409c-dc66-a9b9b2460089"
      },
      "execution_count": 10,
      "outputs": [
        {
          "output_type": "execute_result",
          "data": {
            "text/plain": [
              "    Restaurant_latitude  Restaurant_longitude  Delivery_location_latitude  \\\n",
              "40            12.972532             77.608179                   13.042532   \n",
              "41            13.064181             80.236442                   13.134181   \n",
              "42            19.121999             72.908493                   19.201999   \n",
              "\n",
              "    Delivery_location_longitude  \n",
              "40                    77.678179  \n",
              "41                    80.306442  \n",
              "42                    72.988493  "
            ],
            "text/html": [
              "\n",
              "  <div id=\"df-1a04f70d-d611-48e6-8bf5-84d0c92f2460\">\n",
              "    <div class=\"colab-df-container\">\n",
              "      <div>\n",
              "<style scoped>\n",
              "    .dataframe tbody tr th:only-of-type {\n",
              "        vertical-align: middle;\n",
              "    }\n",
              "\n",
              "    .dataframe tbody tr th {\n",
              "        vertical-align: top;\n",
              "    }\n",
              "\n",
              "    .dataframe thead th {\n",
              "        text-align: right;\n",
              "    }\n",
              "</style>\n",
              "<table border=\"1\" class=\"dataframe\">\n",
              "  <thead>\n",
              "    <tr style=\"text-align: right;\">\n",
              "      <th></th>\n",
              "      <th>Restaurant_latitude</th>\n",
              "      <th>Restaurant_longitude</th>\n",
              "      <th>Delivery_location_latitude</th>\n",
              "      <th>Delivery_location_longitude</th>\n",
              "    </tr>\n",
              "  </thead>\n",
              "  <tbody>\n",
              "    <tr>\n",
              "      <th>40</th>\n",
              "      <td>12.972532</td>\n",
              "      <td>77.608179</td>\n",
              "      <td>13.042532</td>\n",
              "      <td>77.678179</td>\n",
              "    </tr>\n",
              "    <tr>\n",
              "      <th>41</th>\n",
              "      <td>13.064181</td>\n",
              "      <td>80.236442</td>\n",
              "      <td>13.134181</td>\n",
              "      <td>80.306442</td>\n",
              "    </tr>\n",
              "    <tr>\n",
              "      <th>42</th>\n",
              "      <td>19.121999</td>\n",
              "      <td>72.908493</td>\n",
              "      <td>19.201999</td>\n",
              "      <td>72.988493</td>\n",
              "    </tr>\n",
              "  </tbody>\n",
              "</table>\n",
              "</div>\n",
              "      <button class=\"colab-df-convert\" onclick=\"convertToInteractive('df-1a04f70d-d611-48e6-8bf5-84d0c92f2460')\"\n",
              "              title=\"Convert this dataframe to an interactive table.\"\n",
              "              style=\"display:none;\">\n",
              "        \n",
              "  <svg xmlns=\"http://www.w3.org/2000/svg\" height=\"24px\"viewBox=\"0 0 24 24\"\n",
              "       width=\"24px\">\n",
              "    <path d=\"M0 0h24v24H0V0z\" fill=\"none\"/>\n",
              "    <path d=\"M18.56 5.44l.94 2.06.94-2.06 2.06-.94-2.06-.94-.94-2.06-.94 2.06-2.06.94zm-11 1L8.5 8.5l.94-2.06 2.06-.94-2.06-.94L8.5 2.5l-.94 2.06-2.06.94zm10 10l.94 2.06.94-2.06 2.06-.94-2.06-.94-.94-2.06-.94 2.06-2.06.94z\"/><path d=\"M17.41 7.96l-1.37-1.37c-.4-.4-.92-.59-1.43-.59-.52 0-1.04.2-1.43.59L10.3 9.45l-7.72 7.72c-.78.78-.78 2.05 0 2.83L4 21.41c.39.39.9.59 1.41.59.51 0 1.02-.2 1.41-.59l7.78-7.78 2.81-2.81c.8-.78.8-2.07 0-2.86zM5.41 20L4 18.59l7.72-7.72 1.47 1.35L5.41 20z\"/>\n",
              "  </svg>\n",
              "      </button>\n",
              "      \n",
              "  <style>\n",
              "    .colab-df-container {\n",
              "      display:flex;\n",
              "      flex-wrap:wrap;\n",
              "      gap: 12px;\n",
              "    }\n",
              "\n",
              "    .colab-df-convert {\n",
              "      background-color: #E8F0FE;\n",
              "      border: none;\n",
              "      border-radius: 50%;\n",
              "      cursor: pointer;\n",
              "      display: none;\n",
              "      fill: #1967D2;\n",
              "      height: 32px;\n",
              "      padding: 0 0 0 0;\n",
              "      width: 32px;\n",
              "    }\n",
              "\n",
              "    .colab-df-convert:hover {\n",
              "      background-color: #E2EBFA;\n",
              "      box-shadow: 0px 1px 2px rgba(60, 64, 67, 0.3), 0px 1px 3px 1px rgba(60, 64, 67, 0.15);\n",
              "      fill: #174EA6;\n",
              "    }\n",
              "\n",
              "    [theme=dark] .colab-df-convert {\n",
              "      background-color: #3B4455;\n",
              "      fill: #D2E3FC;\n",
              "    }\n",
              "\n",
              "    [theme=dark] .colab-df-convert:hover {\n",
              "      background-color: #434B5C;\n",
              "      box-shadow: 0px 1px 3px 1px rgba(0, 0, 0, 0.15);\n",
              "      filter: drop-shadow(0px 1px 2px rgba(0, 0, 0, 0.3));\n",
              "      fill: #FFFFFF;\n",
              "    }\n",
              "  </style>\n",
              "\n",
              "      <script>\n",
              "        const buttonEl =\n",
              "          document.querySelector('#df-1a04f70d-d611-48e6-8bf5-84d0c92f2460 button.colab-df-convert');\n",
              "        buttonEl.style.display =\n",
              "          google.colab.kernel.accessAllowed ? 'block' : 'none';\n",
              "\n",
              "        async function convertToInteractive(key) {\n",
              "          const element = document.querySelector('#df-1a04f70d-d611-48e6-8bf5-84d0c92f2460');\n",
              "          const dataTable =\n",
              "            await google.colab.kernel.invokeFunction('convertToInteractive',\n",
              "                                                     [key], {});\n",
              "          if (!dataTable) return;\n",
              "\n",
              "          const docLinkHtml = 'Like what you see? Visit the ' +\n",
              "            '<a target=\"_blank\" href=https://colab.research.google.com/notebooks/data_table.ipynb>data table notebook</a>'\n",
              "            + ' to learn more about interactive tables.';\n",
              "          element.innerHTML = '';\n",
              "          dataTable['output_type'] = 'display_data';\n",
              "          await google.colab.output.renderOutput(dataTable, element);\n",
              "          const docLink = document.createElement('div');\n",
              "          docLink.innerHTML = docLinkHtml;\n",
              "          element.appendChild(docLink);\n",
              "        }\n",
              "      </script>\n",
              "    </div>\n",
              "  </div>\n",
              "  "
            ]
          },
          "metadata": {},
          "execution_count": 10
        }
      ]
    },
    {
      "cell_type": "markdown",
      "source": [
        "# 5. Qual a menor data de entrega da coluna “Order_Date” entre as linhas 0 a 50?"
      ],
      "metadata": {
        "id": "wrsL8z4JjMr3"
      }
    },
    {
      "cell_type": "code",
      "source": [
        "df['Order_Date'] = pd.to_datetime(df['Order_Date'], format='%d-%m-%Y')\n",
        "aux = df.loc[0:50, [\"ID\", \"Order_Date\"] ]\n",
        "aux.sort_values(\"Order_Date\").iloc[0,1]"
      ],
      "metadata": {
        "colab": {
          "base_uri": "https://localhost:8080/"
        },
        "id": "8RslL6OmjOn7",
        "outputId": "b70cc0b2-cb70-4005-fd29-b80c52bbfa41"
      },
      "execution_count": 11,
      "outputs": [
        {
          "output_type": "execute_result",
          "data": {
            "text/plain": [
              "Timestamp('2022-02-11 00:00:00')"
            ]
          },
          "metadata": {},
          "execution_count": 11
        }
      ]
    },
    {
      "cell_type": "code",
      "source": [
        "# aux = df.loc[0:50, 'Order_Date']\n",
        "# time = pd.to_datetime('22-03-2051', format='%d-%m-%Y')\n",
        "# for i in aux:\n",
        "#   if i < time:\n",
        "#     time = i\n",
        "# print(time)"
      ],
      "metadata": {
        "id": "A3GdcLnLk1iW"
      },
      "execution_count": 12,
      "outputs": []
    },
    {
      "cell_type": "markdown",
      "source": [
        "# 6. Qual a menor data de entrega da coluna “ Time_Orderd ” entre as linhas 0 a 50?\n"
      ],
      "metadata": {
        "id": "OqSRaXJCoRQx"
      }
    },
    {
      "cell_type": "code",
      "source": [
        "aux = df.loc[0:50, [\"ID\", \"Time_Orderd\"] ]\n",
        "aux.sort_values(\"Time_Orderd\", ascending=True).iloc[0,1]"
      ],
      "metadata": {
        "colab": {
          "base_uri": "https://localhost:8080/",
          "height": 35
        },
        "id": "wDXGhjLbBx-H",
        "outputId": "efc9bc59-bd67-453e-9e79-170fb32a1207"
      },
      "execution_count": 13,
      "outputs": [
        {
          "output_type": "execute_result",
          "data": {
            "text/plain": [
              "'08:15:00'"
            ],
            "application/vnd.google.colaboratory.intrinsic+json": {
              "type": "string"
            }
          },
          "metadata": {},
          "execution_count": 13
        }
      ]
    },
    {
      "cell_type": "markdown",
      "source": [
        "# 7. Quais os nomes únicos da coluna “City” entre as linhas 50 e 70?"
      ],
      "metadata": {
        "id": "DYffeaULq_Od"
      }
    },
    {
      "cell_type": "code",
      "source": [
        "city = df.loc[50:70, 'City'].unique()\n",
        "for name in city:\n",
        "  print(name)"
      ],
      "metadata": {
        "id": "wuS-4eGRq-ps",
        "colab": {
          "base_uri": "https://localhost:8080/"
        },
        "outputId": "0f1b90e2-fb4e-4529-c0c6-b29b8999d051"
      },
      "execution_count": 14,
      "outputs": [
        {
          "output_type": "stream",
          "name": "stdout",
          "text": [
            "Metropolitian \n",
            "Urban \n",
            "Semi-Urban \n",
            "NaN \n"
          ]
        }
      ]
    },
    {
      "cell_type": "markdown",
      "source": [
        "# 8. Quais os nomes únicos da coluna “Weatherconditions” entre as linhas 0 e 10?"
      ],
      "metadata": {
        "id": "1AloAPlfrmhe"
      }
    },
    {
      "cell_type": "code",
      "source": [
        "condicoes = df.loc[0:10, 'Weatherconditions'].unique()\n",
        "for condicao in condicoes:\n",
        "  print(condicao)"
      ],
      "metadata": {
        "id": "Hd8wzMkRrojr",
        "colab": {
          "base_uri": "https://localhost:8080/"
        },
        "outputId": "ff0f2d65-e7a4-4ecb-e42b-7bc99b29e721"
      },
      "execution_count": 15,
      "outputs": [
        {
          "output_type": "stream",
          "name": "stdout",
          "text": [
            "conditions Sunny\n",
            "conditions Stormy\n",
            "conditions Sandstorms\n",
            "conditions Cloudy\n",
            "conditions Fog\n"
          ]
        }
      ]
    },
    {
      "cell_type": "markdown",
      "source": [
        "# 9. Quais os tipos de densidade de trânsito presente na coluna “Road_traffic_density ” entre as linhas 0 a 20?"
      ],
      "metadata": {
        "id": "HDyiIptOr328"
      }
    },
    {
      "cell_type": "code",
      "source": [
        "densidades = df.loc[0:20, 'Road_traffic_density'].unique()\n",
        "for densidade in densidades:\n",
        "  print(densidade)"
      ],
      "metadata": {
        "id": "7Sk4x1UGr5_f",
        "colab": {
          "base_uri": "https://localhost:8080/"
        },
        "outputId": "8bcbedd1-64af-43d9-d174-a33f7220b0d7"
      },
      "execution_count": 16,
      "outputs": [
        {
          "output_type": "stream",
          "name": "stdout",
          "text": [
            "High \n",
            "Jam \n",
            "Low \n",
            "Medium \n"
          ]
        }
      ]
    },
    {
      "cell_type": "markdown",
      "source": [
        "# 10. Qual o ID do entregador de comida mais velho entre as linhas 50 e 70?"
      ],
      "metadata": {
        "id": "8Mw36hrzsIyp"
      }
    },
    {
      "cell_type": "code",
      "source": [
        "aux = df.loc[50:70, ['Delivery_person_ID', 'Delivery_person_Age']]\n",
        "aux.sort_values(\"Delivery_person_Age\", ascending=False).iloc[0, 0]"
      ],
      "metadata": {
        "id": "0MM9ErF5sJb0",
        "colab": {
          "base_uri": "https://localhost:8080/",
          "height": 35
        },
        "outputId": "de6c6331-9b2a-4e10-a104-a7d8fb0d3c08"
      },
      "execution_count": 17,
      "outputs": [
        {
          "output_type": "execute_result",
          "data": {
            "text/plain": [
              "'DEHRES19DEL02 '"
            ],
            "application/vnd.google.colaboratory.intrinsic+json": {
              "type": "string"
            }
          },
          "metadata": {},
          "execution_count": 17
        }
      ]
    },
    {
      "cell_type": "markdown",
      "source": [
        "# 11. Qual o ID do entregador de comida com a melhor avaliação de entrega entre as linhas 50 e 70?"
      ],
      "metadata": {
        "id": "A-OZjrMssZlY"
      }
    },
    {
      "cell_type": "code",
      "source": [
        "aux = df.loc[50:70, ['Delivery_person_ID', 'Delivery_person_Ratings']]\n",
        "aux.sort_values(\"Delivery_person_Ratings\", ascending=False).iloc[0, 0]"
      ],
      "metadata": {
        "id": "12BZElxHscQQ",
        "colab": {
          "base_uri": "https://localhost:8080/",
          "height": 35
        },
        "outputId": "94ebcaa8-b6c4-4cd3-d0d1-9d3168c6dce9"
      },
      "execution_count": 18,
      "outputs": [
        {
          "output_type": "execute_result",
          "data": {
            "text/plain": [
              "'AURGRES20DEL03 '"
            ],
            "application/vnd.google.colaboratory.intrinsic+json": {
              "type": "string"
            }
          },
          "metadata": {},
          "execution_count": 18
        }
      ]
    },
    {
      "cell_type": "markdown",
      "source": [
        "# 12. Quais os tipos de veículos utilizados pelos entregadores entre as linhas 0 a 30?"
      ],
      "metadata": {
        "id": "N4uY1Jtutj78"
      }
    },
    {
      "cell_type": "code",
      "source": [
        "veiculos = df.loc[0:30, 'Type_of_vehicle'].unique()\n",
        "for veiculo in veiculos:\n",
        "  print(veiculo)"
      ],
      "metadata": {
        "id": "uzavaOjxtjwX",
        "colab": {
          "base_uri": "https://localhost:8080/"
        },
        "outputId": "4790fce3-2d50-47c2-a79f-9da06add65b5"
      },
      "execution_count": 19,
      "outputs": [
        {
          "output_type": "stream",
          "name": "stdout",
          "text": [
            "motorcycle \n",
            "scooter \n",
            "electric_scooter \n"
          ]
        }
      ]
    },
    {
      "cell_type": "markdown",
      "source": [
        "# 13. Quais os tipos de pedidos únicos da coluna “multiple_deliveries” que foram entregues entre as linhas 100 e 120?"
      ],
      "metadata": {
        "id": "JqaSjJpMt40t"
      }
    },
    {
      "cell_type": "code",
      "source": [
        "pedidos = df.loc[100:120, 'multiple_deliveries'].unique()\n",
        "for pedido in pedidos:\n",
        "  print(pedido)"
      ],
      "metadata": {
        "id": "-pgfteQUt6RB",
        "colab": {
          "base_uri": "https://localhost:8080/"
        },
        "outputId": "f7847fe0-cb09-4786-b2c7-0461943d77a0"
      },
      "execution_count": 20,
      "outputs": [
        {
          "output_type": "stream",
          "name": "stdout",
          "text": [
            "0\n",
            "1\n"
          ]
        }
      ]
    }
  ]
}